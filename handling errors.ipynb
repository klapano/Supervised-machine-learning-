{
 "cells": [
  {
   "cell_type": "markdown",
   "id": "745d1caf",
   "metadata": {},
   "source": [
    "1) Data validation:\n",
    "\n",
    "This can be done by using built-in validation functions in programming languages or libraries to check if the data meets certain conditions.\n",
    "For example, in python, you can use the built-in function isnumeric() to check if a value is a number, or the isalpha() function to check if a value is a string."
   ]
  },
  {
   "cell_type": "code",
   "execution_count": null,
   "id": "648de878",
   "metadata": {},
   "outputs": [],
   "source": [
    "data = [\"123\", \"abc\", \"456\", \"def\"]\n",
    "for value in data:\n",
    "    if value.isnumeric():\n",
    "        print(f\"{value} is a number\")\n",
    "    else:\n",
    "        print(f\"{value} is not a number\")\n"
   ]
  },
  {
   "cell_type": "code",
   "execution_count": null,
   "id": "34747aaa",
   "metadata": {},
   "outputs": [],
   "source": [
    "data = [\"123\", \"abc\", \"456\", \"def\"]\n",
    "for value in data:\n",
    "    if value.isalpha():\n",
    "        print(f\"{value} is a string\")\n",
    "    else:\n",
    "        print(f\"{value} is not a string\")\n"
   ]
  },
  {
   "cell_type": "markdown",
   "id": "8c65e889",
   "metadata": {},
   "source": [
    "2) Data cleaning:\n",
    "\n",
    "This can be done by removing or replacing the invalid data.\n",
    "For example, in python, you can use the built-in function replace() to replace invalid data with a default value."
   ]
  },
  {
   "cell_type": "code",
   "execution_count": null,
   "id": "50c691c0",
   "metadata": {},
   "outputs": [],
   "source": [
    "data = [1, 2, \"abc\", 4, \"def\"]\n",
    "for i, value in enumerate(data):\n",
    "    if not isinstance(value, (int, float)):\n",
    "        data[i] = 0\n"
   ]
  },
  {
   "cell_type": "markdown",
   "id": "707cde01",
   "metadata": {},
   "source": [
    "3) Data imputation:\n",
    "\n",
    "This can be done by using statistical methods such as mean, median or mode to fill in missing data.\n",
    "For example, in python, you can use the built-in function fillna() from the pandas library to fill in missing data with the mean value of the column."
   ]
  },
  {
   "cell_type": "code",
   "execution_count": null,
   "id": "ec2ae949",
   "metadata": {},
   "outputs": [],
   "source": [
    "import pandas as pd\n",
    "data = [1, 2, None, 4, None]\n",
    "data = pd.DataFrame(data, columns=[\"values\"])\n",
    "data[\"values\"].fillna(data[\"values\"].mean(), inplace=True)\n"
   ]
  },
  {
   "cell_type": "markdown",
   "id": "40cc9b4f",
   "metadata": {},
   "source": [
    "# ----------------------------------------------------------------------------------------------------------------------------------------"
   ]
  },
  {
   "cell_type": "markdown",
   "id": "9e92e5ab",
   "metadata": {},
   "source": [
    "1) Dealing with categorical data:\n",
    "\n",
    "For example, if you have a column in your dataset that contains categorical data, you can use the one-hot encoding technique to convert the categorical data into numerical data. This can be done using the get_dummies() function from the pandas library in python."
   ]
  },
  {
   "cell_type": "code",
   "execution_count": null,
   "id": "2723d5bb",
   "metadata": {},
   "outputs": [],
   "source": [
    "import pandas as pd\n",
    "data = pd.DataFrame({\"color\": [\"red\", \"green\", \"blue\", \"green\", \"red\"]})\n",
    "data_encoded = pd.get_dummies(data, columns=[\"color\"])\n"
   ]
  },
  {
   "cell_type": "markdown",
   "id": "db294d21",
   "metadata": {},
   "source": [
    "2) Handling missing data:\n",
    "\n",
    "For example, if you have missing data in your dataset, you can use the Imputer class from the scikit-learn library in python to fill in the missing data with a specified value such as the mean, median or mode."
   ]
  },
  {
   "cell_type": "code",
   "execution_count": null,
   "id": "5a22a321",
   "metadata": {},
   "outputs": [],
   "source": [
    "from sklearn.impute import SimpleImputer\n",
    "imputer = SimpleImputer(strategy=\"mean\")\n",
    "data_imputed = imputer.fit_transform(data)\n"
   ]
  },
  {
   "cell_type": "markdown",
   "id": "65f4e075",
   "metadata": {},
   "source": [
    "3)Handling errors in time-series data:\n",
    "\n",
    "For example, if you have time-series data and missing values or outliers, you can use interpolation or extrapolation to fill in the missing values or use the robust_interpolate() function from the tsclean library to interpolate the data while handling outliers."
   ]
  },
  {
   "cell_type": "code",
   "execution_count": null,
   "id": "3cceff94",
   "metadata": {},
   "outputs": [],
   "source": [
    "import tsclean as ts\n",
    "data_interpolated = ts.robust_interpolate(data)\n"
   ]
  },
  {
   "cell_type": "markdown",
   "id": "3abdcad1",
   "metadata": {},
   "source": [
    "4) Handling errors in image data:\n",
    "\n",
    "For example, if you have image data with noise or artifacts, you can use image processing techniques such as denoising or image restoration to clean the data.\n",
    "There are several libraries that can be used to denoise images, such as OpenCV and skimage in python."
   ]
  },
  {
   "cell_type": "code",
   "execution_count": null,
   "id": "9e55c713",
   "metadata": {},
   "outputs": [],
   "source": [
    "import cv2\n",
    "img = cv2.imread(\"image.jpg\")\n",
    "denoised_img = cv2.fastNlMeansDenoisingColored(img,None,10,10,7,21)\n",
    "cv2.imwrite(\"denoised_image.jpg\", denoised_img)\n"
   ]
  },
  {
   "cell_type": "markdown",
   "id": "bfdd1cb5",
   "metadata": {},
   "source": [
    "# ------------------------------------------------------------------------------------------------================================================================"
   ]
  },
  {
   "cell_type": "markdown",
   "id": "eb595af8",
   "metadata": {},
   "source": [
    "1) Handling errors in text data:\n",
    "\n",
    "For example, if you have text data with typos or misspellings, you can use natural language processing techniques such as spell-checking or autocorrect to correct the errors.\n",
    "For example, you can use the pyspellchecker library in python to check and correct the spelling of words in text data."
   ]
  },
  {
   "cell_type": "code",
   "execution_count": 2,
   "id": "67f18cd9",
   "metadata": {},
   "outputs": [
    {
     "ename": "ModuleNotFoundError",
     "evalue": "No module named 'spellchecker'",
     "output_type": "error",
     "traceback": [
      "\u001b[1;31m---------------------------------------------------------------------------\u001b[0m",
      "\u001b[1;31mModuleNotFoundError\u001b[0m                       Traceback (most recent call last)",
      "Input \u001b[1;32mIn [2]\u001b[0m, in \u001b[0;36m<cell line: 1>\u001b[1;34m()\u001b[0m\n\u001b[1;32m----> 1\u001b[0m \u001b[38;5;28;01mfrom\u001b[39;00m \u001b[38;5;21;01mspellchecker\u001b[39;00m \u001b[38;5;28;01mimport\u001b[39;00m SpellChecker\n\u001b[0;32m      2\u001b[0m spell \u001b[38;5;241m=\u001b[39m SpellChecker()\n\u001b[0;32m      3\u001b[0m text \u001b[38;5;241m=\u001b[39m \u001b[38;5;124m\"\u001b[39m\u001b[38;5;124mI went to the stor to buy some groeries\u001b[39m\u001b[38;5;124m\"\u001b[39m\n",
      "\u001b[1;31mModuleNotFoundError\u001b[0m: No module named 'spellchecker'"
     ]
    }
   ],
   "source": [
    "#pip/pip3 install pyspellchecker\n",
    "\n",
    "\n",
    "from spellchecker import SpellChecker\n",
    "spell = SpellChecker()\n",
    "text = \"I went to the stor to buy some groeries\"\n",
    "corrected_text = \" \".join([spell.correction(word) for word in text.split()])\n"
   ]
  },
  {
   "cell_type": "markdown",
   "id": "fab9a477",
   "metadata": {},
   "source": [
    "2) Handling errors in geospatial data:\n",
    "\n",
    "For example, if you have geospatial data with errors in the coordinates, you can use geospatial processing techniques such as projection conversion or spatial joining to correct the errors.\n",
    "For example, you can use the pyproj library in python to convert the coordinates from one projection to another."
   ]
  },
  {
   "cell_type": "code",
   "execution_count": null,
   "id": "6d6898db",
   "metadata": {},
   "outputs": [],
   "source": [
    "import pyproj\n",
    "inProj = pyproj.Proj(init='epsg:4326')\n",
    "outProj = pyproj.Proj(init='epsg:3857')\n",
    "lon, lat = -71.06031648, 42.3584308\n",
    "x, y = pyproj.transform(inProj, outProj, lon, lat)\n"
   ]
  },
  {
   "cell_type": "markdown",
   "id": "69defb07",
   "metadata": {},
   "source": [
    "3) Handling errors in audio data:\n",
    "\n",
    "For example, if you have audio data with noise or background interference, you can use audio processing techniques such as noise reduction or echo cancellation to remove the errors.\n",
    "For example, you can use the librosa library in python to remove noise from audio data."
   ]
  },
  {
   "cell_type": "code",
   "execution_count": null,
   "id": "34ac28e3",
   "metadata": {},
   "outputs": [],
   "source": [
    "import librosa\n",
    "y, sr = librosa.load(\"audio.wav\")\n",
    "y_clean = librosa.effects.reduce_noise(y, sr=sr)\n",
    "librosa.output.write_wav(\"cleaned_audio.wav\", y_clean, sr)\n"
   ]
  }
 ],
 "metadata": {
  "kernelspec": {
   "display_name": "Python 3 (ipykernel)",
   "language": "python",
   "name": "python3"
  },
  "language_info": {
   "codemirror_mode": {
    "name": "ipython",
    "version": 3
   },
   "file_extension": ".py",
   "mimetype": "text/x-python",
   "name": "python",
   "nbconvert_exporter": "python",
   "pygments_lexer": "ipython3",
   "version": "3.8.10"
  }
 },
 "nbformat": 4,
 "nbformat_minor": 5
}
