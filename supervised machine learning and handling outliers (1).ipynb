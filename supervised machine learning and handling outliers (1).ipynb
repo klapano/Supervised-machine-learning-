{
 "cells": [
  {
   "cell_type": "markdown",
   "id": "96a02e26",
   "metadata": {},
   "source": [
    "# HANDLING OUTLIERS"
   ]
  },
  {
   "cell_type": "markdown",
   "id": "c3b3e6f8",
   "metadata": {},
   "source": [
    "There are several techniques for handling outliers, such as:\n",
    "\n",
    "1) Removing outliers:\n",
    "\n",
    "--This can be done by specifying a threshold value and removing data points that fall outside of this threshold.\n",
    "For example, removing all data points that are more than three standard deviations away from the mean.\n",
    "\n",
    "\n",
    "--This can be done by using a method that uses the interquartile range (IQR) to calculate the threshold value. The threshold value is defined as the difference between the 75th and 25th percentiles, multiplied by a scale factor (usually 1.5 or 3).\n",
    "Data points that fall outside of this threshold are considered outliers."
   ]
  },
  {
   "cell_type": "code",
   "execution_count": null,
   "id": "6f9d5a89",
   "metadata": {},
   "outputs": [],
   "source": [
    "import numpy as np\n",
    "\n",
    "# calculate the interquartile range\n",
    "q75, q25 = np.percentile(data, [75, 25])\n",
    "iqr = q75 - q25\n",
    "\n",
    "# calculate the threshold values\n",
    "min_val = q25 - (iqr*1.5)\n",
    "max_val = q75 + (iqr*1.5)\n",
    "\n",
    "# remove outliers\n",
    "outliers = data[(data < min_val) | (data > max_val)]\n",
    "data = data[(data >= min_val) & (data <= max_val)]\n"
   ]
  },
  {
   "cell_type": "markdown",
   "id": "c7527598",
   "metadata": {},
   "source": [
    "# ---------"
   ]
  },
  {
   "cell_type": "markdown",
   "id": "a91f0a63",
   "metadata": {},
   "source": [
    "2) Transforming the data:\n",
    "\n",
    "--This can be done by using mathematical functions such as log, square root or reciprocal to transform the data.\n",
    "\n",
    "--This technique can be used to reduce the impact of outliers by making the data more symmetrical or by making the outliers less extreme."
   ]
  },
  {
   "cell_type": "code",
   "execution_count": null,
   "id": "57842e10",
   "metadata": {},
   "outputs": [],
   "source": [
    "import numpy as np\n",
    "\n",
    "data = np.log(data)\n"
   ]
  },
  {
   "cell_type": "markdown",
   "id": "0003cdc9",
   "metadata": {},
   "source": [
    "----------------------------------------------------------------"
   ]
  },
  {
   "cell_type": "markdown",
   "id": "45ffe445",
   "metadata": {},
   "source": [
    "3) Using robust algorithms:\n",
    "\n",
    "--This can be done by using algorithms that are less sensitive to outliers.\n",
    "For example, linear regression can be made more robust to outliers by using a technique called \"least absolute deviation\" instead of \"least squares\".\n",
    "\n",
    "--Another example is the use of decision tree algorithm that splits the data based on the feature value rather than mean values, this way the outlier's impact is reduced."
   ]
  }
 ],
 "metadata": {
  "kernelspec": {
   "display_name": "Python 3 (ipykernel)",
   "language": "python",
   "name": "python3"
  },
  "language_info": {
   "codemirror_mode": {
    "name": "ipython",
    "version": 3
   },
   "file_extension": ".py",
   "mimetype": "text/x-python",
   "name": "python",
   "nbconvert_exporter": "python",
   "pygments_lexer": "ipython3",
   "version": "3.8.10"
  }
 },
 "nbformat": 4,
 "nbformat_minor": 5
}
